{
 "cells": [
  {
   "cell_type": "markdown",
   "metadata": {},
   "source": [
    "# Sensors and Board to Board Communication\n",
    "\n",
    "This session will cover reading data from the Grove TH02 Temperature and Humidity Sensor as well as transmitting data from one board to another over the internet."
   ]
  },
  {
   "cell_type": "markdown",
   "metadata": {},
   "source": [
    "## Part 1: Setup"
   ]
  },
  {
   "cell_type": "markdown",
   "metadata": {},
   "source": [
    "### 1.1 Initialize Overlay\n",
    "Our PYNQ Board has a Field Programmable Gate Array (FPGA) on it that must be programmed before we begin using the board. We apply designs called overlays that we can design however we want. For the first part of this tutorial, we are going to use the pre-built base overlay."
   ]
  },
  {
   "cell_type": "code",
   "execution_count": null,
   "metadata": {},
   "outputs": [],
   "source": [
    "from pynq.overlays.base import BaseOverlay\n",
    "base = BaseOverlay(\"base.bit\")"
   ]
  },
  {
   "cell_type": "markdown",
   "metadata": {},
   "source": [
    "### 1.2 Import Temperature Sensor Libraries\n",
    "Here we tell the board what libraries we want to use in our project."
   ]
  },
  {
   "cell_type": "code",
   "execution_count": null,
   "metadata": {},
   "outputs": [],
   "source": [
    "from pynq.lib.arduino import Grove_TH02\n",
    "from pynq.lib.arduino import ARDUINO_GROVE_I2C"
   ]
  },
  {
   "cell_type": "markdown",
   "metadata": {},
   "source": [
    "## Part 2: Reading Temperature and Humidity"
   ]
  },
  {
   "attachments": {},
   "cell_type": "markdown",
   "metadata": {},
   "source": [
    "### 2.1 Plugging in your TH02 Sensor\n",
    "\n",
    "Plug your PMOD to Grove adaptor (shown in picture below) into one of your PMOD connectors on your PYNQ board. Then plug you TH02 humidity sensor into the one of the four white Grove adaptor ports\n",
    "\n",
    "![grove_adaptor](https://cdn10.bigcommerce.com/s-7gavg/products/531/images/4194/PYNQ_Shield_-_Oblique_-_600__81639.1473444236.1280.1280.png?c=2)"
   ]
  },
  {
   "cell_type": "markdown",
   "metadata": {},
   "source": [
    "### 2.2 Initialize the Temperature Sensor\n",
    "\n",
    "We create an variable called \"th02\" that represents the sensor. From this object we can call functions that retrieve data from the sensor."
   ]
  },
  {
   "cell_type": "code",
   "execution_count": null,
   "metadata": {},
   "outputs": [],
   "source": [
    "th02 = Grove_TH02(base.ARDUINO,ARDUINO_GROVE_I2C)"
   ]
  },
  {
   "cell_type": "markdown",
   "metadata": {},
   "source": [
    "### 2.3 Read the Temperature and Humidity\n",
    "Calling the function read() returns a tuple (two values separated by a comma). The first value is temperature and the second value is humidity."
   ]
  },
  {
   "cell_type": "code",
   "execution_count": null,
   "metadata": {},
   "outputs": [],
   "source": [
    "temp_c, humidity = th02.read()\n",
    "print('The temperature is {} degrees celsius and the relative humidity is {} %'.format(temp_c, humidity))"
   ]
  },
  {
   "cell_type": "markdown",
   "metadata": {},
   "source": [
    "### 2.4 Convert to Fahrenheit\n",
    "\n",
    "Converting to Fahrenheit is done by the following equation: \n",
    "\n",
    "fahrenheit = celsius * (9/5) + 32"
   ]
  },
  {
   "cell_type": "code",
   "execution_count": null,
   "metadata": {},
   "outputs": [],
   "source": [
    "temp_f = temp_c * (9/5) + 32\n",
    "print(f'The temperature is {temp_f} F')"
   ]
  },
  {
   "cell_type": "markdown",
   "metadata": {},
   "source": [
    "### 2.5 Averaging the Temperature"
   ]
  },
  {
   "cell_type": "markdown",
   "metadata": {},
   "source": [
    "Both computers and the world aren't always perfect. This means that there can be some variation in values that we see. Averaging is a technique that can help up try to hone in on the \"correct\" answer that we are looking for. "
   ]
  },
  {
   "cell_type": "markdown",
   "metadata": {},
   "source": [
    "First, let's read a number of values from the temperature sensor."
   ]
  },
  {
   "cell_type": "code",
   "execution_count": null,
   "metadata": {},
   "outputs": [],
   "source": [
    "# create temperatures as an empty array\n",
    "temps = []\n",
    "# read 5 temperature values and store then in the \"temps\" array\n",
    "for i in range(5):\n",
    "    # read temp in C\n",
    "    temp_c, _ = th02.read()\n",
    "    # convert to F\n",
    "    temp_f = temp_c * (9/5) + 32\n",
    "    # append temp_f to temps\n",
    "    temps.append(temp_f)\n",
    "print(temps)"
   ]
  },
  {
   "cell_type": "markdown",
   "metadata": {},
   "source": [
    "Now that we have all 5 temperature values stored in an array, let's average them! To average the values, we want to sum them up and then divide the total number of values."
   ]
  },
  {
   "cell_type": "code",
   "execution_count": null,
   "metadata": {},
   "outputs": [],
   "source": [
    "average_sum = 0\n",
    "# sum up all the values\n",
    "for temp in temps:\n",
    "    average_sum = average_sum + temp\n",
    "print(f\"average_sum: {average_sum}\")\n",
    "average = average_sum / len(temps)\n",
    "print(f\"average: {average}\")"
   ]
  },
  {
   "cell_type": "markdown",
   "metadata": {},
   "source": [
    "## Part 3: Board to Board Communication\n",
    "\n",
    "In many situations, sensors will need to be a distance away from where the data is needed. For instance, you may want to know the temperature at different locations around a city and be able to monitor this from one central location. To do this, we can send data over the internet. You can also send many types of data beyond this sensor such as text."
   ]
  },
  {
   "cell_type": "code",
   "execution_count": null,
   "metadata": {},
   "outputs": [],
   "source": [
    "!pip3 install getmac\n",
    "!pip3 install ./pynq-p2p"
   ]
  },
  {
   "cell_type": "code",
   "execution_count": null,
   "metadata": {},
   "outputs": [],
   "source": [
    "import pynqp2p"
   ]
  },
  {
   "cell_type": "markdown",
   "metadata": {},
   "source": [
    "### 3.1 Register with the central server\n",
    "In order to ensure not just anyone can access our data, we use a secret passcode to verify our identity and register with the server that will store our data."
   ]
  },
  {
   "cell_type": "code",
   "execution_count": null,
   "metadata": {},
   "outputs": [],
   "source": [
    "ip_address = '[IP address of the server goes here]'\n",
    "key = '[secret passcode goes here]'\n",
    "pynqp2p.register(ip_address, key)"
   ]
  },
  {
   "cell_type": "markdown",
   "metadata": {},
   "source": [
    "### 3.2 Make sure we are able to communicate with the server\n",
    "The function ping() simply sends a message to our server and the server sends a message back saying it heard us."
   ]
  },
  {
   "cell_type": "code",
   "execution_count": null,
   "metadata": {},
   "outputs": [],
   "source": [
    "pynqp2p.ping()"
   ]
  },
  {
   "cell_type": "markdown",
   "metadata": {},
   "source": [
    "### 3.3 Get a unique ID from your Board\n",
    "Your board has a unique ID number called a MAC address. The function get_id() returns a unique number based on this MAC address that you can share with people you want to be able to send you messages. Make sure that the way you share this is secure (such as email) so that you don't have people spamming you with unwanted information."
   ]
  },
  {
   "cell_type": "code",
   "execution_count": null,
   "metadata": {},
   "outputs": [],
   "source": [
    "myid = pynqp2p.get_id()\n",
    "print(f\"Your ID is {myid}\")"
   ]
  },
  {
   "cell_type": "markdown",
   "metadata": {},
   "source": [
    "### 3.4 Send a message to a board with a particular ID\n",
    "The function send() sends a message to the board with the particular ID number you pass it."
   ]
  },
  {
   "cell_type": "code",
   "execution_count": null,
   "metadata": {},
   "outputs": [],
   "source": [
    "recipient_id = 'put your teammates ID here'\n",
    "pynqp2p.send(recipient_id, \"Hello!\")"
   ]
  },
  {
   "cell_type": "markdown",
   "metadata": {},
   "source": [
    "### 3.5 Receive Messages\n",
    "The function receive() asks the server to give you the most recent message sent to you. Afterwards, it deletes the message (which means you can only receive it once). The function receive_all() retrieves all the messages in the server at once and returns them as a list."
   ]
  },
  {
   "cell_type": "code",
   "execution_count": null,
   "metadata": {},
   "outputs": [],
   "source": [
    "pynqp2p.receive()"
   ]
  },
  {
   "cell_type": "markdown",
   "metadata": {},
   "source": [
    "### 3.6 Sending Multiple Messages"
   ]
  },
  {
   "cell_type": "markdown",
   "metadata": {},
   "source": [
    "Sometimes it is helpful to send multiple messages in a row to another PYNQ board. A really simple way to do this is to run the send(id) command multiple times;"
   ]
  },
  {
   "cell_type": "code",
   "execution_count": null,
   "metadata": {},
   "outputs": [],
   "source": [
    "pynqp2p.send(myid, \"Hello 0\")\n",
    "pynqp2p.send(myid, \"Hello 1\")\n",
    "pynqp2p.send(myid, \"Hello 2\")\n",
    "pynqp2p.send(myid, \"Hello 3\")\n",
    "pynqp2p.send(myid, \"Hello 4\")"
   ]
  },
  {
   "cell_type": "markdown",
   "metadata": {},
   "source": [
    "Now in order to recieve these messages, we'll have to call the recieve() function a few times."
   ]
  },
  {
   "cell_type": "code",
   "execution_count": null,
   "metadata": {},
   "outputs": [],
   "source": [
    "print(pynqp2p.receive())\n",
    "print(pynqp2p.receive())\n",
    "print(pynqp2p.receive())\n",
    "print(pynqp2p.receive())\n",
    "print(pynqp2p.receive())"
   ]
  },
  {
   "cell_type": "markdown",
   "metadata": {},
   "source": [
    "This seems tedious, there must be a better way! If you remember earlier, we used a for loop to read multiple temperatures from the temperature sensor and put them in an array. We can use the same technique here."
   ]
  },
  {
   "cell_type": "code",
   "execution_count": null,
   "metadata": {},
   "outputs": [],
   "source": [
    "for i in range(5):\n",
    "    pynqp2p.send(myid, \"Hello \" + str(i))"
   ]
  },
  {
   "cell_type": "markdown",
   "metadata": {},
   "source": [
    "Now we will use another for loop to retrieve all the messages we just sent. "
   ]
  },
  {
   "cell_type": "code",
   "execution_count": null,
   "metadata": {},
   "outputs": [],
   "source": [
    "for i in range(5):\n",
    "    print(pynqp2p.receive())"
   ]
  },
  {
   "cell_type": "markdown",
   "metadata": {},
   "source": [
    "As you can see, this is a lot less tedious and required a lot less code to achieve the same goal. The only problem here is that we can only access the retrieved messages one at a time. pynqp2p containes a really useful function called recieve_all() that helps us here."
   ]
  },
  {
   "cell_type": "code",
   "execution_count": null,
   "metadata": {},
   "outputs": [],
   "source": [
    "# first, let's send ourselves 5 messages\n",
    "for i in range(5):\n",
    "    pynqp2p.send(myid, \"Hello \" + str(i))"
   ]
  },
  {
   "cell_type": "code",
   "execution_count": null,
   "metadata": {},
   "outputs": [],
   "source": [
    "# now, let's see what the recieve_all() functions does for us\n",
    "print(pynqp2p.receive_all())"
   ]
  },
  {
   "cell_type": "markdown",
   "metadata": {},
   "source": [
    "Now you've learned the basics of pynqp2p! Let's try something new. Can you figure out how to send some of the temperature data from earlier? Can you send your Celcius measurement to someone else to be converted into Fahrenheit? Can you send your temperature measurement to someone else and have them respond with weather it's larger or smaller?"
   ]
  },
  {
   "cell_type": "markdown",
   "metadata": {},
   "source": [
    "The possibilites are endless!"
   ]
  }
 ],
 "metadata": {
  "kernelspec": {
   "display_name": "Python 3",
   "language": "python",
   "name": "python3"
  },
  "language_info": {
   "codemirror_mode": {
    "name": "ipython",
    "version": 3
   },
   "file_extension": ".py",
   "mimetype": "text/x-python",
   "name": "python",
   "nbconvert_exporter": "python",
   "pygments_lexer": "ipython3",
   "version": "3.6.5"
  }
 },
 "nbformat": 4,
 "nbformat_minor": 2
}

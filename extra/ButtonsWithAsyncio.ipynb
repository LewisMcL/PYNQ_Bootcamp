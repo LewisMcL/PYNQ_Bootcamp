{
 "cells": [
  {
   "cell_type": "markdown",
   "metadata": {},
   "source": [
    "# Reacting to Button Presses with Asyncio\n",
    "\n",
    "We already introduced one, simple way of reacting to button presses in the [main notebook](../2_board_io.ipynb). This will be enough for many applications, but it does have some restrictions:\n",
    "\n",
    "  1. We can't do anything else in Python while we wait for a button to change value\n",
    "  2. We can only wait for one button at a time\n",
    "  \n",
    "If we want to listen to different buttons simultaneously or we have some background task that must be run (e.g. updating an LED pattern), we will need to use a more complex approach. We'll introduce an approach using concurrent/asynchronous programming and we won't lie... this can be **hard**.\n",
    "\n",
    "There are parts of this that we don't expect you to fully understand, but we will highlight the place to put in your own custom code so you can use this for your own projects. If you're particularly interested in the hairy details, please ask one of the training helpers!\n",
    "\n",
    "First let's define what we want to happen when a button is pressed and released. We'll loop forever (`while True:` does this) and write some actions for button press and release. For now, let's print a message and turn the corresponding LED on, but you could add in your own actions here too."
   ]
  },
  {
   "cell_type": "code",
   "execution_count": 2,
   "metadata": {},
   "outputs": [
    {
     "data": {
      "application/javascript": [
       "\n",
       "require(['notebook/js/codecell'], function(codecell) {\n",
       "  codecell.CodeCell.options_default.highlight_modes[\n",
       "      'magic_text/x-csrc'] = {'reg':[/^%%microblaze/]};\n",
       "  Jupyter.notebook.events.one('kernel_ready.Kernel', function(){\n",
       "      Jupyter.notebook.get_cells().map(function(cell){\n",
       "          if (cell.cell_type == 'code'){ cell.auto_highlight(); } }) ;\n",
       "  });\n",
       "});\n"
      ]
     },
     "metadata": {},
     "output_type": "display_data"
    }
   ],
   "source": [
    "from pynq.overlays.base import BaseOverlay\n",
    "\n",
    "board = BaseOverlay(\"base.bit\")"
   ]
  },
  {
   "cell_type": "code",
   "execution_count": 3,
   "metadata": {},
   "outputs": [],
   "source": [
    "async def detect_button_press(number):\n",
    "    \n",
    "    button = board.buttons[number]\n",
    "    led    = board.leds[number]\n",
    "    \n",
    "    while True:\n",
    "        \n",
    "        # Wait here until the button is pressed\n",
    "        await button.wait_for_value_async(1)\n",
    "        \n",
    "        # OK, button is pressed — add any extra code here!\n",
    "        print('Button '+ str(number) + ' pressed  😄')\n",
    "        led.on()\n",
    "        \n",
    "        # Wait here until the button is released\n",
    "        await button.wait_for_value_async(0)\n",
    "        \n",
    "        # OK, button is released — add any extra code here!\n",
    "        print('Button '+ str(number) + ' released 😔')\n",
    "        led.off()"
   ]
  },
  {
   "cell_type": "markdown",
   "metadata": {},
   "source": [
    "Note that there are 2 new keywords in this cell: `async` and `await`.\n",
    "\n",
    "  * `async` tells Python that it is OK to run the following code *asynchronously*. This means that the execution can be paused, something else can be run for a while, and then our code can be happily resumed as if nothing happened.\n",
    "  \n",
    "  * `await` tells Python that we'll likely need to wait a while for this line to give us a value. During this wait, it is OK for other `async` code to be executed.\n",
    "\n",
    "Now that we've defined what should happen when a button is pressed, let's run one of these \"tasks\" for each button. This will loop forever, so press the stop button (⏹️) in the toolbar when you want to move on."
   ]
  },
  {
   "cell_type": "code",
   "execution_count": 4,
   "metadata": {},
   "outputs": [
    {
     "name": "stdout",
     "output_type": "stream",
     "text": [
      "Button 3 pressed  😄\n",
      "Button 1 pressed  😄\n",
      "Button 3 released 😔\n",
      "Button 1 released 😔\n",
      "Stopping event loop\n"
     ]
    }
   ],
   "source": [
    "import asyncio\n",
    "\n",
    "# Let's make one \"task\" for each push button\n",
    "for i in range(4):\n",
    "    asyncio.ensure_future(detect_button_press(i))\n",
    "    \n",
    "# Start running all of these tasks!\n",
    "try:\n",
    "    asyncio.get_event_loop().run_forever()\n",
    "    \n",
    "# ...Until you press the stop button\n",
    "except KeyboardInterrupt:\n",
    "    print ('Stopping event loop')\n",
    "    \n",
    "# ...Then politely stop all of the tasks\n",
    "finally:\n",
    "    for task in asyncio.Task.all_tasks():\n",
    "        task.cancel()"
   ]
  },
  {
   "cell_type": "markdown",
   "metadata": {},
   "source": [
    "Note that we can now react to any button at all — not just `BTN0`.\n",
    "\n",
    "If you want to add in a background task, we can just add it with `asyncio.ensure_future(...)`. Just as an example, let's do the same as above but with an extra task that prints a message once every second. Note that we need to use a special version of `sleep()` when using `asyncio`."
   ]
  },
  {
   "cell_type": "code",
   "execution_count": 6,
   "metadata": {},
   "outputs": [
    {
     "name": "stdout",
     "output_type": "stream",
     "text": [
      "⏰ Hello from the background task! ⏰\n",
      "⏰ Hello from the background task! ⏰\n",
      "⏰ Hello from the background task! ⏰\n",
      "⏰ Hello from the background task! ⏰\n",
      "⏰ Hello from the background task! ⏰\n",
      "⏰ Hello from the background task! ⏰\n",
      "Button 1 pressed  😄\n",
      "⏰ Hello from the background task! ⏰\n",
      "⏰ Hello from the background task! ⏰\n",
      "Button 1 released 😔\n",
      "⏰ Hello from the background task! ⏰\n",
      "Button 0 pressed  😄\n",
      "⏰ Hello from the background task! ⏰\n",
      "⏰ Hello from the background task! ⏰\n",
      "Button 0 released 😔\n",
      "⏰ Hello from the background task! ⏰\n",
      "⏰ Hello from the background task! ⏰\n",
      "Stopping event loop\n"
     ]
    }
   ],
   "source": [
    "# Define our background task\n",
    "async def background_task():\n",
    "    while True:\n",
    "        await asyncio.sleep(1)\n",
    "        print('⏰ Hello from the background task! ⏰')\n",
    "\n",
    "# Add our background task to the system\n",
    "asyncio.ensure_future(background_task())\n",
    "\n",
    "# All code below is the same as previous cell...\n",
    "\n",
    "for i in range(4):\n",
    "    asyncio.ensure_future(detect_button_press(i))\n",
    "    \n",
    "try:\n",
    "    asyncio.get_event_loop().run_forever()\n",
    "except KeyboardInterrupt:\n",
    "    print ('Stopping event loop')\n",
    "finally:\n",
    "    for task in asyncio.Task.all_tasks():\n",
    "        task.cancel()"
   ]
  },
  {
   "cell_type": "markdown",
   "metadata": {},
   "source": [
    "This code might look a little intimidating but you can reuse it for your own project just by changing a line or two where we say \"`add any extra code here!`\".\n",
    "\n",
    "-------------------------------------------------------------\n",
    "\n",
    "[Click here](../2_board_io.ipynb) to go back to the main notebook."
   ]
  }
 ],
 "metadata": {
  "kernelspec": {
   "display_name": "Python 3",
   "language": "python",
   "name": "python3"
  },
  "language_info": {
   "codemirror_mode": {
    "name": "ipython",
    "version": 3
   },
   "file_extension": ".py",
   "mimetype": "text/x-python",
   "name": "python",
   "nbconvert_exporter": "python",
   "pygments_lexer": "ipython3",
   "version": "3.6.5"
  }
 },
 "nbformat": 4,
 "nbformat_minor": 2
}
